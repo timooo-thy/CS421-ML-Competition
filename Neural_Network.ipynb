{
 "cells": [
  {
   "cell_type": "code",
   "execution_count": 402,
   "id": "2ea24ced",
   "metadata": {},
   "outputs": [],
   "source": [
    "import numpy as np\n",
    "import pandas as pd\n",
    "from pycaret.anomaly import setup, create_model, predict_model\n",
    "\n",
    "data=np.load(\"week_9_data/training_data_with_labels.npz\")\n",
    "data_new = np.load(\"week_10_data/first_batch_test_with_labels.npz\")\n",
    "\n",
    "X_existing = data[\"X\"]\n",
    "y_existing = data[\"y\"]\n",
    "X_existing[:, 0] = X_existing[:, 0] - 100\n",
    "y_existing[:, 0] = y_existing[:, 0] - 100\n",
    "\n",
    "X_new = data_new[\"X\"]\n",
    "y_new = data_new[\"y\"]"
   ]
  },
  {
   "cell_type": "code",
   "execution_count": 403,
   "id": "b53931b4",
   "metadata": {},
   "outputs": [
    {
     "name": "stdout",
     "output_type": "stream",
     "text": [
      "# of items: 1197\n"
     ]
    }
   ],
   "source": [
    "X = np.concatenate((X_existing, X_new), axis=0)\n",
    "y = np.concatenate((y_existing, y_new), axis=0)\n",
    "\n",
    "XX=pd.DataFrame(X)\n",
    "yy=pd.DataFrame(y)\n",
    "XX.rename(columns={0:\"user\",1:\"item\",2:\"rating\"},inplace=True)\n",
    "print(\"# of items:\", XX['item'].unique().shape[0])"
   ]
  },
  {
   "cell_type": "code",
   "execution_count": 404,
   "id": "1cd6ea32",
   "metadata": {},
   "outputs": [
    {
     "data": {
      "text/html": [
       "<div>\n",
       "<style scoped>\n",
       "    .dataframe tbody tr th:only-of-type {\n",
       "        vertical-align: middle;\n",
       "    }\n",
       "\n",
       "    .dataframe tbody tr th {\n",
       "        vertical-align: top;\n",
       "    }\n",
       "\n",
       "    .dataframe thead th {\n",
       "        text-align: right;\n",
       "    }\n",
       "</style>\n",
       "<table border=\"1\" class=\"dataframe\">\n",
       "  <thead>\n",
       "    <tr style=\"text-align: right;\">\n",
       "      <th></th>\n",
       "      <th>user</th>\n",
       "      <th>label</th>\n",
       "    </tr>\n",
       "  </thead>\n",
       "  <tbody>\n",
       "    <tr>\n",
       "      <th>0</th>\n",
       "      <td>0</td>\n",
       "      <td>1</td>\n",
       "    </tr>\n",
       "    <tr>\n",
       "      <th>1</th>\n",
       "      <td>1</td>\n",
       "      <td>0</td>\n",
       "    </tr>\n",
       "    <tr>\n",
       "      <th>2</th>\n",
       "      <td>2</td>\n",
       "      <td>0</td>\n",
       "    </tr>\n",
       "    <tr>\n",
       "      <th>3</th>\n",
       "      <td>3</td>\n",
       "      <td>0</td>\n",
       "    </tr>\n",
       "    <tr>\n",
       "      <th>4</th>\n",
       "      <td>4</td>\n",
       "      <td>0</td>\n",
       "    </tr>\n",
       "  </tbody>\n",
       "</table>\n",
       "</div>"
      ],
      "text/plain": [
       "   user  label\n",
       "0     0      1\n",
       "1     1      0\n",
       "2     2      0\n",
       "3     3      0\n",
       "4     4      0"
      ]
     },
     "execution_count": 404,
     "metadata": {},
     "output_type": "execute_result"
    }
   ],
   "source": [
    "yy.rename(columns={0:\"user\",1:\"label\"},inplace=True)\n",
    "yy.head()"
   ]
  },
  {
   "cell_type": "code",
   "execution_count": 405,
   "id": "1915d114",
   "metadata": {},
   "outputs": [
    {
     "data": {
      "text/html": [
       "<div>\n",
       "<style scoped>\n",
       "    .dataframe tbody tr th:only-of-type {\n",
       "        vertical-align: middle;\n",
       "    }\n",
       "\n",
       "    .dataframe tbody tr th {\n",
       "        vertical-align: top;\n",
       "    }\n",
       "\n",
       "    .dataframe thead th {\n",
       "        text-align: right;\n",
       "    }\n",
       "</style>\n",
       "<table border=\"1\" class=\"dataframe\">\n",
       "  <thead>\n",
       "    <tr style=\"text-align: right;\">\n",
       "      <th></th>\n",
       "      <th>user</th>\n",
       "      <th>item</th>\n",
       "      <th>rating</th>\n",
       "      <th>label</th>\n",
       "    </tr>\n",
       "  </thead>\n",
       "  <tbody>\n",
       "    <tr>\n",
       "      <th>0</th>\n",
       "      <td>99</td>\n",
       "      <td>0</td>\n",
       "      <td>3</td>\n",
       "      <td>0</td>\n",
       "    </tr>\n",
       "    <tr>\n",
       "      <th>1</th>\n",
       "      <td>99</td>\n",
       "      <td>4</td>\n",
       "      <td>5</td>\n",
       "      <td>0</td>\n",
       "    </tr>\n",
       "    <tr>\n",
       "      <th>2</th>\n",
       "      <td>99</td>\n",
       "      <td>7</td>\n",
       "      <td>4</td>\n",
       "      <td>0</td>\n",
       "    </tr>\n",
       "    <tr>\n",
       "      <th>3</th>\n",
       "      <td>99</td>\n",
       "      <td>12</td>\n",
       "      <td>4</td>\n",
       "      <td>0</td>\n",
       "    </tr>\n",
       "    <tr>\n",
       "      <th>4</th>\n",
       "      <td>99</td>\n",
       "      <td>13</td>\n",
       "      <td>5</td>\n",
       "      <td>0</td>\n",
       "    </tr>\n",
       "    <tr>\n",
       "      <th>...</th>\n",
       "      <td>...</td>\n",
       "      <td>...</td>\n",
       "      <td>...</td>\n",
       "      <td>...</td>\n",
       "    </tr>\n",
       "    <tr>\n",
       "      <th>105</th>\n",
       "      <td>31</td>\n",
       "      <td>164</td>\n",
       "      <td>3</td>\n",
       "      <td>0</td>\n",
       "    </tr>\n",
       "    <tr>\n",
       "      <th>106</th>\n",
       "      <td>31</td>\n",
       "      <td>171</td>\n",
       "      <td>2</td>\n",
       "      <td>0</td>\n",
       "    </tr>\n",
       "    <tr>\n",
       "      <th>107</th>\n",
       "      <td>31</td>\n",
       "      <td>174</td>\n",
       "      <td>2</td>\n",
       "      <td>0</td>\n",
       "    </tr>\n",
       "    <tr>\n",
       "      <th>108</th>\n",
       "      <td>31</td>\n",
       "      <td>175</td>\n",
       "      <td>3</td>\n",
       "      <td>0</td>\n",
       "    </tr>\n",
       "    <tr>\n",
       "      <th>109</th>\n",
       "      <td>31</td>\n",
       "      <td>176</td>\n",
       "      <td>2</td>\n",
       "      <td>0</td>\n",
       "    </tr>\n",
       "  </tbody>\n",
       "</table>\n",
       "<p>110 rows × 4 columns</p>\n",
       "</div>"
      ],
      "text/plain": [
       "     user  item  rating  label\n",
       "0      99     0       3      0\n",
       "1      99     4       5      0\n",
       "2      99     7       4      0\n",
       "3      99    12       4      0\n",
       "4      99    13       5      0\n",
       "..    ...   ...     ...    ...\n",
       "105    31   164       3      0\n",
       "106    31   171       2      0\n",
       "107    31   174       2      0\n",
       "108    31   175       3      0\n",
       "109    31   176       2      0\n",
       "\n",
       "[110 rows x 4 columns]"
      ]
     },
     "execution_count": 405,
     "metadata": {},
     "output_type": "execute_result"
    }
   ],
   "source": [
    "merged_data = pd.merge(XX, yy, on='user', how='left')\n",
    "merged_data.head(110)"
   ]
  },
  {
   "cell_type": "code",
   "execution_count": 406,
   "id": "9e50775c",
   "metadata": {},
   "outputs": [
    {
     "data": {
      "text/plain": [
       "2200"
      ]
     },
     "execution_count": 406,
     "metadata": {},
     "output_type": "execute_result"
    }
   ],
   "source": [
    "len(merged_data[\"user\"].unique())"
   ]
  },
  {
   "cell_type": "code",
   "execution_count": 407,
   "id": "f5a1f67d",
   "metadata": {},
   "outputs": [],
   "source": [
    "groups_X = merged_data.groupby('user')\n",
    "groups_X = [group for _, group in groups_X]"
   ]
  },
  {
   "cell_type": "code",
   "execution_count": 408,
   "id": "d3f528a5",
   "metadata": {},
   "outputs": [
    {
     "data": {
      "text/html": [
       "<div>\n",
       "<style scoped>\n",
       "    .dataframe tbody tr th:only-of-type {\n",
       "        vertical-align: middle;\n",
       "    }\n",
       "\n",
       "    .dataframe tbody tr th {\n",
       "        vertical-align: top;\n",
       "    }\n",
       "\n",
       "    .dataframe thead th {\n",
       "        text-align: right;\n",
       "    }\n",
       "</style>\n",
       "<table border=\"1\" class=\"dataframe\">\n",
       "  <thead>\n",
       "    <tr style=\"text-align: right;\">\n",
       "      <th></th>\n",
       "      <th>user</th>\n",
       "      <th>label</th>\n",
       "      <th>total_interactions</th>\n",
       "      <th>rating_range</th>\n",
       "      <th>extreme_ratings_ratio</th>\n",
       "      <th>proportion_of_5_stars</th>\n",
       "      <th>proportion_of_1_star</th>\n",
       "      <th>mode_ratio</th>\n",
       "    </tr>\n",
       "  </thead>\n",
       "  <tbody>\n",
       "    <tr>\n",
       "      <th>0</th>\n",
       "      <td>0</td>\n",
       "      <td>1</td>\n",
       "      <td>88</td>\n",
       "      <td>4</td>\n",
       "      <td>0.147727</td>\n",
       "      <td>0.079545</td>\n",
       "      <td>0.068182</td>\n",
       "      <td>0.454545</td>\n",
       "    </tr>\n",
       "    <tr>\n",
       "      <th>1</th>\n",
       "      <td>1</td>\n",
       "      <td>0</td>\n",
       "      <td>363</td>\n",
       "      <td>5</td>\n",
       "      <td>0.336088</td>\n",
       "      <td>0.049587</td>\n",
       "      <td>0.286501</td>\n",
       "      <td>0.286501</td>\n",
       "    </tr>\n",
       "    <tr>\n",
       "      <th>2</th>\n",
       "      <td>2</td>\n",
       "      <td>0</td>\n",
       "      <td>52</td>\n",
       "      <td>3</td>\n",
       "      <td>0.480769</td>\n",
       "      <td>0.480769</td>\n",
       "      <td>0.000000</td>\n",
       "      <td>0.480769</td>\n",
       "    </tr>\n",
       "    <tr>\n",
       "      <th>3</th>\n",
       "      <td>3</td>\n",
       "      <td>0</td>\n",
       "      <td>173</td>\n",
       "      <td>3</td>\n",
       "      <td>0.005780</td>\n",
       "      <td>0.005780</td>\n",
       "      <td>0.000000</td>\n",
       "      <td>0.543353</td>\n",
       "    </tr>\n",
       "    <tr>\n",
       "      <th>4</th>\n",
       "      <td>4</td>\n",
       "      <td>0</td>\n",
       "      <td>92</td>\n",
       "      <td>4</td>\n",
       "      <td>0.423913</td>\n",
       "      <td>0.402174</td>\n",
       "      <td>0.021739</td>\n",
       "      <td>0.445652</td>\n",
       "    </tr>\n",
       "  </tbody>\n",
       "</table>\n",
       "</div>"
      ],
      "text/plain": [
       "   user  label  total_interactions  rating_range  extreme_ratings_ratio  \\\n",
       "0     0      1                  88             4               0.147727   \n",
       "1     1      0                 363             5               0.336088   \n",
       "2     2      0                  52             3               0.480769   \n",
       "3     3      0                 173             3               0.005780   \n",
       "4     4      0                  92             4               0.423913   \n",
       "\n",
       "   proportion_of_5_stars  proportion_of_1_star  mode_ratio  \n",
       "0               0.079545              0.068182    0.454545  \n",
       "1               0.049587              0.286501    0.286501  \n",
       "2               0.480769              0.000000    0.480769  \n",
       "3               0.005780              0.000000    0.543353  \n",
       "4               0.402174              0.021739    0.445652  "
      ]
     },
     "execution_count": 408,
     "metadata": {},
     "output_type": "execute_result"
    }
   ],
   "source": [
    "from scipy.stats import entropy\n",
    "\n",
    "# Feature Engineering\n",
    "features_list = []\n",
    "\n",
    "for group in groups_X:\n",
    "    user = group['user'].iloc[0]\n",
    "    label = group['label'].iloc[0] \n",
    "    min_rating = group['rating'].min()\n",
    "    total_interactions = group.shape[0]\n",
    "    rating_range = (group['rating'].max() - group['rating'].min())\n",
    "    unique_items = group['item'].nunique()\n",
    "    ratings_count = group['rating'].value_counts(normalize=True)\n",
    "    ratings_entropy = entropy(ratings_count)\n",
    "    item_diversity = group['item'].nunique() / merged_data['item'].nunique()\n",
    "    proportion_of_5_stars = (group['rating'] == 5).sum() / group.shape[0]\n",
    "    proportion_of_1_star = (group['rating'] == 1).sum() / group.shape[0]\n",
    "    mode_count = group['rating'].value_counts(dropna=True).max()\n",
    "    mode_ratio = mode_count / total_interactions\n",
    "    median_rating = group['rating'].median()\n",
    "    average_rating = group['rating'].mean()\n",
    "    \n",
    "\n",
    "    score = 0\n",
    "    for item in group['item']:\n",
    "        score = score + item\n",
    "\n",
    "    rating_variance = group['rating'].var()\n",
    "    extreme_ratings_ratio = ((group['rating'] == 1) | (group['rating'] == 5)).sum() / total_interactions\n",
    "\n",
    "    features_list.append({\n",
    "        'user': user,\n",
    "        'label': label,\n",
    "        # 'min_rating': min_rating,\n",
    "        'total_interactions': total_interactions,\n",
    "        'rating_range': rating_range,\n",
    "        # 'unique_items': unique_items,\n",
    "        # 'score': score,\n",
    "        # 'rating_variance': rating_variance,\n",
    "        'extreme_ratings_ratio': extreme_ratings_ratio,\n",
    "        # 'ratings_entropy': ratings_entropy,\n",
    "        # 'item_diversity': item_diversity,\n",
    "        'proportion_of_5_stars': proportion_of_5_stars,\n",
    "        'proportion_of_1_star': proportion_of_1_star,\n",
    "        'mode_ratio': mode_ratio,\n",
    "        # 'median_rating': median_rating,\n",
    "        # 'average_rating': average_rating\n",
    "    })\n",
    "\n",
    "# Create a DataFrame with the features\n",
    "features_df = pd.DataFrame(features_list)\n",
    "# min_rating_0 = features_df['min_rating'] == 0\n",
    "# features_df['min_rating_0'] = min_rating_0.astype(int)\n",
    "features_df.head()"
   ]
  },
  {
   "cell_type": "code",
   "execution_count": 409,
   "id": "7d912f9d",
   "metadata": {},
   "outputs": [],
   "source": [
    "# # Define thresholds\n",
    "# rare_threshold = 400  \n",
    "# disliked_threshold = 4 \n",
    "\n",
    "# # Calculate the count of ratings per item\n",
    "# item_counts = merged_data['item'].value_counts()\n",
    "\n",
    "# # Find rare items based on the threshold\n",
    "# rare_items = item_counts[item_counts < rare_threshold].index\n",
    "\n",
    "# # Calculate average rating per item\n",
    "# item_avg_rating = merged_data.groupby('item')['rating'].mean()\n",
    "\n",
    "# # Find disliked items based on the threshold\n",
    "# disliked_items = item_avg_rating[item_avg_rating < disliked_threshold].index\n",
    "\n",
    "# # Mark interactions with rare and disliked items\n",
    "# merged_data['rare_interaction'] = merged_data['item'].isin(rare_items).astype(int)\n",
    "# merged_data['disliked_interaction'] = merged_data['item'].isin(disliked_items).astype(int)\n",
    "\n",
    "# # Calculate the mean proportion of rare and disliked interactions per user\n",
    "# user_rare_disliked_interaction = merged_data.groupby('user').agg({\n",
    "#     'rare_interaction': 'mean',  # Proportion of interactions with rarely rated items\n",
    "#     'disliked_interaction': 'mean'  # Proportion of interactions with disliked items\n",
    "\n",
    "# }).reset_index()\n",
    "\n",
    "# features_df = features_df.merge(user_rare_disliked_interaction, on='user', how='left')\n",
    "\n",
    "# item_variance = merged_data.groupby('item')['rating'].var().reset_index(name='item_variance')\n",
    "# merged_data_var = merged_data.merge(item_variance, on='item', how='left')\n",
    "\n",
    "# user_avg_item_variance = merged_data_var.groupby('user')['item_variance'].mean().reset_index(name='avg_item_variance')\n",
    "\n",
    "# # Merge this new feature into features_df\n",
    "# features_df = features_df.merge(user_avg_item_variance, on='user', how='left')\n"
   ]
  },
  {
   "cell_type": "code",
   "execution_count": 410,
   "id": "af5cb209",
   "metadata": {},
   "outputs": [
    {
     "data": {
      "text/plain": [
       "label\n",
       "0    2000\n",
       "1     200\n",
       "Name: count, dtype: int64"
      ]
     },
     "execution_count": 410,
     "metadata": {},
     "output_type": "execute_result"
    }
   ],
   "source": [
    "features_df.drop(columns=['user'], inplace=True)\n",
    "features_df['label'].value_counts()"
   ]
  },
  {
   "cell_type": "code",
   "execution_count": 411,
   "id": "001d16bb",
   "metadata": {},
   "outputs": [],
   "source": [
    "from sklearn.model_selection import train_test_split\n",
    "\n",
    "X = features_df.drop(columns=['label'])\n",
    "y = features_df['label']\n",
    "X_train, X_test, y_train, y_test = train_test_split(X, y, test_size=0.2, random_state=42, stratify=y)"
   ]
  },
  {
   "cell_type": "code",
   "execution_count": 412,
   "id": "90e3308a",
   "metadata": {},
   "outputs": [
    {
     "data": {
      "text/html": [
       "<style type=\"text/css\">\n",
       "#T_e0b7a_row4_col1, #T_e0b7a_row8_col1 {\n",
       "  background-color: lightgreen;\n",
       "}\n",
       "</style>\n",
       "<table id=\"T_e0b7a\">\n",
       "  <thead>\n",
       "    <tr>\n",
       "      <th class=\"blank level0\" >&nbsp;</th>\n",
       "      <th id=\"T_e0b7a_level0_col0\" class=\"col_heading level0 col0\" >Description</th>\n",
       "      <th id=\"T_e0b7a_level0_col1\" class=\"col_heading level0 col1\" >Value</th>\n",
       "    </tr>\n",
       "  </thead>\n",
       "  <tbody>\n",
       "    <tr>\n",
       "      <th id=\"T_e0b7a_level0_row0\" class=\"row_heading level0 row0\" >0</th>\n",
       "      <td id=\"T_e0b7a_row0_col0\" class=\"data row0 col0\" >Session id</td>\n",
       "      <td id=\"T_e0b7a_row0_col1\" class=\"data row0 col1\" >42</td>\n",
       "    </tr>\n",
       "    <tr>\n",
       "      <th id=\"T_e0b7a_level0_row1\" class=\"row_heading level0 row1\" >1</th>\n",
       "      <td id=\"T_e0b7a_row1_col0\" class=\"data row1 col0\" >Original data shape</td>\n",
       "      <td id=\"T_e0b7a_row1_col1\" class=\"data row1 col1\" >(1760, 6)</td>\n",
       "    </tr>\n",
       "    <tr>\n",
       "      <th id=\"T_e0b7a_level0_row2\" class=\"row_heading level0 row2\" >2</th>\n",
       "      <td id=\"T_e0b7a_row2_col0\" class=\"data row2 col0\" >Transformed data shape</td>\n",
       "      <td id=\"T_e0b7a_row2_col1\" class=\"data row2 col1\" >(1760, 6)</td>\n",
       "    </tr>\n",
       "    <tr>\n",
       "      <th id=\"T_e0b7a_level0_row3\" class=\"row_heading level0 row3\" >3</th>\n",
       "      <td id=\"T_e0b7a_row3_col0\" class=\"data row3 col0\" >Numeric features</td>\n",
       "      <td id=\"T_e0b7a_row3_col1\" class=\"data row3 col1\" >6</td>\n",
       "    </tr>\n",
       "    <tr>\n",
       "      <th id=\"T_e0b7a_level0_row4\" class=\"row_heading level0 row4\" >4</th>\n",
       "      <td id=\"T_e0b7a_row4_col0\" class=\"data row4 col0\" >Preprocess</td>\n",
       "      <td id=\"T_e0b7a_row4_col1\" class=\"data row4 col1\" >True</td>\n",
       "    </tr>\n",
       "    <tr>\n",
       "      <th id=\"T_e0b7a_level0_row5\" class=\"row_heading level0 row5\" >5</th>\n",
       "      <td id=\"T_e0b7a_row5_col0\" class=\"data row5 col0\" >Imputation type</td>\n",
       "      <td id=\"T_e0b7a_row5_col1\" class=\"data row5 col1\" >simple</td>\n",
       "    </tr>\n",
       "    <tr>\n",
       "      <th id=\"T_e0b7a_level0_row6\" class=\"row_heading level0 row6\" >6</th>\n",
       "      <td id=\"T_e0b7a_row6_col0\" class=\"data row6 col0\" >Numeric imputation</td>\n",
       "      <td id=\"T_e0b7a_row6_col1\" class=\"data row6 col1\" >mean</td>\n",
       "    </tr>\n",
       "    <tr>\n",
       "      <th id=\"T_e0b7a_level0_row7\" class=\"row_heading level0 row7\" >7</th>\n",
       "      <td id=\"T_e0b7a_row7_col0\" class=\"data row7 col0\" >Categorical imputation</td>\n",
       "      <td id=\"T_e0b7a_row7_col1\" class=\"data row7 col1\" >mode</td>\n",
       "    </tr>\n",
       "    <tr>\n",
       "      <th id=\"T_e0b7a_level0_row8\" class=\"row_heading level0 row8\" >8</th>\n",
       "      <td id=\"T_e0b7a_row8_col0\" class=\"data row8 col0\" >Normalize</td>\n",
       "      <td id=\"T_e0b7a_row8_col1\" class=\"data row8 col1\" >True</td>\n",
       "    </tr>\n",
       "    <tr>\n",
       "      <th id=\"T_e0b7a_level0_row9\" class=\"row_heading level0 row9\" >9</th>\n",
       "      <td id=\"T_e0b7a_row9_col0\" class=\"data row9 col0\" >Normalize method</td>\n",
       "      <td id=\"T_e0b7a_row9_col1\" class=\"data row9 col1\" >zscore</td>\n",
       "    </tr>\n",
       "    <tr>\n",
       "      <th id=\"T_e0b7a_level0_row10\" class=\"row_heading level0 row10\" >10</th>\n",
       "      <td id=\"T_e0b7a_row10_col0\" class=\"data row10 col0\" >CPU Jobs</td>\n",
       "      <td id=\"T_e0b7a_row10_col1\" class=\"data row10 col1\" >-1</td>\n",
       "    </tr>\n",
       "    <tr>\n",
       "      <th id=\"T_e0b7a_level0_row11\" class=\"row_heading level0 row11\" >11</th>\n",
       "      <td id=\"T_e0b7a_row11_col0\" class=\"data row11 col0\" >Use GPU</td>\n",
       "      <td id=\"T_e0b7a_row11_col1\" class=\"data row11 col1\" >False</td>\n",
       "    </tr>\n",
       "    <tr>\n",
       "      <th id=\"T_e0b7a_level0_row12\" class=\"row_heading level0 row12\" >12</th>\n",
       "      <td id=\"T_e0b7a_row12_col0\" class=\"data row12 col0\" >Log Experiment</td>\n",
       "      <td id=\"T_e0b7a_row12_col1\" class=\"data row12 col1\" >False</td>\n",
       "    </tr>\n",
       "    <tr>\n",
       "      <th id=\"T_e0b7a_level0_row13\" class=\"row_heading level0 row13\" >13</th>\n",
       "      <td id=\"T_e0b7a_row13_col0\" class=\"data row13 col0\" >Experiment Name</td>\n",
       "      <td id=\"T_e0b7a_row13_col1\" class=\"data row13 col1\" >anomaly-default-name</td>\n",
       "    </tr>\n",
       "    <tr>\n",
       "      <th id=\"T_e0b7a_level0_row14\" class=\"row_heading level0 row14\" >14</th>\n",
       "      <td id=\"T_e0b7a_row14_col0\" class=\"data row14 col0\" >USI</td>\n",
       "      <td id=\"T_e0b7a_row14_col1\" class=\"data row14 col1\" >1e1d</td>\n",
       "    </tr>\n",
       "  </tbody>\n",
       "</table>\n"
      ],
      "text/plain": [
       "<pandas.io.formats.style.Styler at 0x283c19270>"
      ]
     },
     "metadata": {},
     "output_type": "display_data"
    },
    {
     "name": "stdout",
     "output_type": "stream",
     "text": [
      "<pycaret.anomaly.oop.AnomalyExperiment object at 0x2832b2140>\n"
     ]
    },
    {
     "data": {
      "text/html": [],
      "text/plain": [
       "<IPython.core.display.HTML object>"
      ]
     },
     "metadata": {},
     "output_type": "display_data"
    },
    {
     "data": {
      "text/html": [],
      "text/plain": [
       "<IPython.core.display.HTML object>"
      ]
     },
     "metadata": {},
     "output_type": "display_data"
    },
    {
     "data": {
      "text/html": [],
      "text/plain": [
       "<IPython.core.display.HTML object>"
      ]
     },
     "metadata": {},
     "output_type": "display_data"
    },
    {
     "data": {
      "text/plain": [
       "Anomaly\n",
       "0    1584\n",
       "1     176\n",
       "Name: count, dtype: int64"
      ]
     },
     "execution_count": 412,
     "metadata": {},
     "output_type": "execute_result"
    }
   ],
   "source": [
    "# Set up PyCaret environment\n",
    "model = setup(data=X_train, normalize=True, session_id=42)\n",
    "print(model)\n",
    "# Create and tune the model\n",
    "iforest = create_model('lof', fraction=0.1)\n",
    "\n",
    "result = assign_model(iforest)\n",
    "result['Anomaly'].value_counts()"
   ]
  },
  {
   "cell_type": "code",
   "execution_count": 413,
   "id": "847ee3d2",
   "metadata": {},
   "outputs": [],
   "source": [
    "from sklearn.metrics import roc_auc_score\n",
    "\n",
    "# predictions = predict_model(iforest, data = X_test)\n",
    "# predictions.head(20)"
   ]
  },
  {
   "cell_type": "code",
   "execution_count": 414,
   "id": "93e2227b",
   "metadata": {},
   "outputs": [
    {
     "name": "stdout",
     "output_type": "stream",
     "text": [
      "ROC AUC Score: 0.4931249999999999\n"
     ]
    }
   ],
   "source": [
    "# Calculate ROC AUC\n",
    "roc_auc = roc_auc_score(y_train, result['Anomaly'])\n",
    "print(\"ROC AUC Score:\", roc_auc)"
   ]
  },
  {
   "cell_type": "code",
   "execution_count": null,
   "id": "918663f7",
   "metadata": {},
   "outputs": [],
   "source": []
  }
 ],
 "metadata": {
  "kernelspec": {
   "display_name": "Python 3 (ipykernel)",
   "language": "python",
   "name": "python3"
  },
  "language_info": {
   "codemirror_mode": {
    "name": "ipython",
    "version": 3
   },
   "file_extension": ".py",
   "mimetype": "text/x-python",
   "name": "python",
   "nbconvert_exporter": "python",
   "pygments_lexer": "ipython3",
   "version": "3.10.4"
  }
 },
 "nbformat": 4,
 "nbformat_minor": 5
}
